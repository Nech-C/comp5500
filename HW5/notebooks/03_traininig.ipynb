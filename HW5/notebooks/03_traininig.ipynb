{
 "cells": [
  {
   "cell_type": "code",
   "execution_count": 1,
   "metadata": {},
   "outputs": [],
   "source": [
    "import sys\n",
    "\n",
    "import numpy as np\n",
    "\n",
    "import torch\n",
    "import torch.nn as nn\n",
    "import torch.nn.functional as F\n",
    "import torch.utils.data\n",
    "\n",
    "sys.path.append('../')  # make sure we can import transformer_lm"
   ]
  },
  {
   "attachments": {},
   "cell_type": "markdown",
   "metadata": {},
   "source": [
    "# Training a transformer language model\n",
    "\n",
    "In this notebook, we will learn how to\n",
    "\n",
    "1. preprocess data for language modeling\n",
    "2. use `torch.utils.data` to handle batching in an efficient and standard way\n",
    "3. train a transformer language model\n",
    "\n",
    "Specifically, we will use the Tiny Shakespeare dataset, which contains the complete works of William Shakespeare, to train a language model. The goal of this notebook is to walk you through the steps of pre-processing the dataset and preparing it for training using the PyTorch DataLoader, creating a language model, training it and using it to generate text.\n",
    "\n",
    "We will train a character-based langauge model instead of word-based, because:\n",
    "\n",
    "1. It's faster to train it to the point that it can generate text\n",
    "2. We don't want to complicate the homework with BPE tokenization\n",
    "3. We work with a small dataset which might not be enough to train a word-based language model\n",
    "\n",
    "> Feel free to try training a word-based language model on a larger dataset, such as the WikiText-2 dataset, which is available in the hugginface datasets library.\n",
    "\n",
    "# Step 1: Load and Explore the Dataset\n",
    "The first step is to load the dataset and explore it. In this example, we will use the Tiny Shakespeare dataset, which contains the complete works of William Shakespeare. We can download the dataset from the following URL: https://raw.githubusercontent.com/karpathy/char-rnn/master/data/tinyshakespeare/input.txt\n",
    "\n",
    "Feel free to use `wget` to download the dataset or just download the file manually and upload it to your Colab instance.\n",
    "\n",
    "Here's how you can use `wget` to download the dataset:\n",
    "```\n",
    "!wget https://raw.githubusercontent.com/karpathy/char-rnn/master/data/tinyshakespeare/input.txt -O tiny_shakespeare.txt\n",
    "```"
   ]
  },
  {
   "attachments": {},
   "cell_type": "markdown",
   "metadata": {},
   "source": [
    "## Coding task 3.1: load the data and take a look\n",
    "\n",
    "Read the file to a variable named `raw_data` and print the first 1000 characters.\n",
    "\n",
    "### Grading criteria\n",
    "**(1 point max)**\n",
    "\n",
    "1 point if everything works"
   ]
  },
  {
   "cell_type": "code",
   "execution_count": 2,
   "metadata": {},
   "outputs": [
    {
     "name": "stdout",
     "output_type": "stream",
     "text": [
      "First Citizen:\n",
      "Before we proceed any further, hear me speak.\n",
      "\n",
      "All:\n",
      "Speak, speak.\n",
      "\n",
      "First Citizen:\n",
      "You are all resolved rather to die than to famish?\n",
      "\n",
      "All:\n",
      "Resolved. resolved.\n",
      "\n",
      "First Citizen:\n",
      "First, you know Caius Marcius is chief enemy to the people.\n",
      "\n",
      "All:\n",
      "We know't, we know't.\n",
      "\n",
      "First Citizen:\n",
      "Let us kill him, and we'll have corn at our own price.\n",
      "Is't a verdict?\n",
      "\n",
      "All:\n",
      "No more talking on't; let it be done: away, away!\n",
      "\n",
      "Second Citizen:\n",
      "One word, good citizens.\n",
      "\n",
      "First Citizen:\n",
      "We are accounted poor citizens, the patricians good.\n",
      "What authority surfeits on would relieve us: if they\n",
      "would yield us but the superfluity, while it were\n",
      "wholesome, we might guess they relieved us humanely;\n",
      "but they think we are too dear: the leanness that\n",
      "afflicts us, the object of our misery, is as an\n",
      "inventory to particularise their abundance; our\n",
      "sufferance is a gain to them Let us revenge this with\n",
      "our pikes, ere we become rakes: for the gods know I\n",
      "speak this in hunger for bread, not in thirst for revenge.\n",
      "\n",
      "\n"
     ]
    }
   ],
   "source": [
    "with open(\"tiny_shakespeare.txt\", \"r\") as f:\n",
    "    raw_data = f.read()\n",
    "\n",
    "print(raw_data[:1000])"
   ]
  },
  {
   "attachments": {},
   "cell_type": "markdown",
   "metadata": {},
   "source": [
    "## Inline question 3.1: raw text preprocessing\n",
    "**(1 point max, 1 extra point for creative ideas)**\n",
    "\n",
    "Think about how you can pre-process the data (in terms of modifying the text). Provde three ideas and explain why you think they are useful or not. Think about the size of the data, tokenization method (we will use character-level language model), your computational resources, and what kind of text you want to generate. Make this answer as extensive as possible.\n",
    "\n",
    "***Your answer:*** \n",
    "1. Convert all characters into lowercase. This can reduce the size of the vocabulary by 26 without too much loss of information. Capitalization has two primary use cases here: start of the sentence capitalization and proper nouns. The first function can be replaced by other punctuation or special characters, and the second function doesn't seem to be necessary since we can recognize the names and places without capitalization.\n",
    "2. Remove newline characters and replace them with a special token when necessary. We don't need a newline character after every \":\" and dialogue line. So instead of  \n",
    "   \"\\<person1\\>: <span style=\"color:red\">\\n</span>  \n",
    "   \\<some words\\><span style=\"color:red\">\\n</span>  \n",
    "   \\<some other words\\><span style=\"color:red\">\\n</span>  \n",
    "   <span style=\"color:red\">\\n</span>  \n",
    "   \\<person2\\>:<span style=\"color:red\">\\n</span>  \n",
    "   ...,\"  \n",
    "we can do \n",
    "\"\\<person1\\>: \\<some words\\>\\<some other words\\><span style=\"color:red\">\\<special token\\></span> \\<person2\\>: \\<some words\\>\\<some other words\\>...\"\n",
    "   This not only reduces the size of the corpus but also preserves the separation between dialogue lines.\n",
    "3. The text contains special symbols, such as \"$\" and \"&\", but the uses don't make much sense. For example, I found the following in the text:  \n",
    "   a. \"Now stops thy spring; my sea sha$l suck them dry,\"  \n",
    "   b. \"England and France, and lord of Ireland, &c.\"  \n",
    "The single occurrence of \"$\" seems to be a typo for the letter 'l', so we can just replace \"$\" with \"l.\" The symbol '&' appears only three times, and every occurrence is followed by a letter \"c.\" \"&c\" stands for \"et cetera,\" so we can replace \"&c\" with \"etc.\" By performing those two substitutions, we further reduce the vocabulary size by 2."
   ]
  },
  {
   "attachments": {},
   "cell_type": "markdown",
   "metadata": {},
   "source": [
    "# Step 2: preparing the data for the model\n",
    "\n",
    "## Coding task 3.2\n",
    "Similar to previous homeworks, where we made a vocabualry of words, we will make a vocabulary of characters.\n",
    "\n",
    "1. Make a vocabulary of all characters\n",
    "2. Make `char2idx`\n",
    "3. Make a class `Tokenizer` that stores `char2idx` and has two methods: `encode` and `decode` that encode and decode text using `char2idx` and `idx2char` dictionaries.\n",
    "   * You might find it useful to create `idx2char` dictionary inside the `__init__` method of the `Tokenizer` class.\n",
    "4. Create a `Tokenizer` object\n",
    "5. Convert the text to a list of integers using `char2idx`, assign it to a variable named `data`\n",
    "6. Print the first 100 items of `data`\n",
    "\n",
    "It's useful to have a function that converts a sequence of indices to a string. You will need it to convert the output of the model to a text when you will be generating text, but is it also very useful for **debugging** your pre-processing code.\n",
    "\n",
    "### Grading criteria\n",
    "**(2 points max)**\n",
    "\n",
    "1. 1 point for `char2idx` dictionary\n",
    "2. 1 point for `Tokenizer` class that passes the tests below"
   ]
  },
  {
   "cell_type": "code",
   "execution_count": 3,
   "metadata": {},
   "outputs": [],
   "source": [
    "# YOUR CODE STARTS HERE (our implementation is about 4 lines using comprehensions, but it's alright if yours is longer)\n",
    "char2idx = {ch: i for i, ch in enumerate(set(raw_data))}\n",
    "class Tokenizer:\n",
    "    def __init__(self, char2idx):\n",
    "        self.char_to_idx = char2idx\n",
    "        self.idx_to_char = {i: ch for ch, i in char2idx.items()}\n",
    "\n",
    "    def encode(self, string):\n",
    "        return [self.char_to_idx[ch] for ch in string]\n",
    "\n",
    "    def decode(self, tokens):\n",
    "        if isinstance(tokens, torch.Tensor):\n",
    "            tokens = tokens.tolist()\n",
    "        return ''.join([self.idx_to_char[i] for i in tokens])\n",
    "# YOUR CODE ENDS HERE"
   ]
  },
  {
   "cell_type": "code",
   "execution_count": 4,
   "metadata": {},
   "outputs": [],
   "source": [
    "_tokenizer = Tokenizer(char2idx)\n",
    "\n",
    "_token_ids = _tokenizer.encode(\"hello\")\n",
    "_text = _tokenizer.decode(_token_ids)\n",
    "\n",
    "assert isinstance(_token_ids, list), \"token_ids should be a list\"\n",
    "assert isinstance(_token_ids[0], int), \"token_ids should be a list of integers\"\n",
    "assert _text == \"hello\", \"decode should work correctly and return the original text\"\n",
    "\n",
    "del _tokenizer, _token_ids, _text"
   ]
  },
  {
   "attachments": {},
   "cell_type": "markdown",
   "metadata": {},
   "source": [
    "# Chunk the data\n",
    "\n",
    "Our data is too long to be processed in one go. We will split it into chunks of length 128. We will use the first 128 characters to predict the next character. This is a decent length for a sequence, but you can play with it if you want.\n",
    "\n",
    "## Coding task 3.3\n",
    "\n",
    "1. Create a list of sequences of length `MAX_LEN + 1`. Each sequence should be a list of integers. You'll see why we need `+ 1` in a minute.\n",
    "   * You might need to get rid of your last example if it's shorter than `MAX_LEN + 1` characters. We need all data to be of the same length to simplify batching.\n",
    "   * In the next homework we will implement batchihg for sequences of different lengths and you are probably not going to enjoy it, it's a bit tricky.\n",
    "2. Split the data into training and validation sets. Use 90% of the data for training and 10% for validation.\n",
    "3. Make x and y pairs for your data. Remember that we want to use the first 128 characters to predict the next character. So, `x` should be the first 128 characters and `y` should be a shifted version of the same sequence, so it's the last 128 characters. Name them `train_x` and `train_y` for the training set and `val_x` and `val_y` for the validation set.\n",
    "4. Print an example from the training set. You should see that the first 128 characters are the same as the first 128 characters of the original text, and the last 128 characters are the same as the last 128 characters of the original text, shifted by one character.\n",
    "\n",
    "You can just stride using `data[i:i+128]` for each `i` in `range(0, len(data), 128)`, no need to do anything fancy. You can figure out more complex ways to do it, just do this after all the homework is done. You receive no extra points if your homework is not finished.\n",
    "\n",
    "### Grading criteria\n",
    "\n",
    "1. 1 point for `data_chunks` list and train-test split\n",
    "2. 1 point for dataset and dataloader objects\n",
    "3. Extra point for a more interesting way to chunk the text\n",
    "4. Extra point for implementing a custom dataset class"
   ]
  },
  {
   "cell_type": "code",
   "execution_count": 5,
   "metadata": {},
   "outputs": [
    {
     "name": "stdout",
     "output_type": "stream",
     "text": [
      "First Train Example:\n",
      "x:\"First Citizen:\n",
      "Before we proceed any further, hear me speak.\n",
      "\n",
      "All:\n",
      "Speak, speak.\n",
      "\n",
      "First Citizen:\n",
      "You are all resolved rather to \"\n",
      "->\n",
      "y:\"irst Citizen:\n",
      "Before we proceed any further, hear me speak.\n",
      "\n",
      "All:\n",
      "Speak, speak.\n",
      "\n",
      "First Citizen:\n",
      "You are all resolved rather to d\"\n"
     ]
    }
   ],
   "source": [
    "MAX_LEN = 128\n",
    "\n",
    "# YOUR CODE STARTS HERE (our implementation is about 13 lines, but it's alright if yours is different)\n",
    "data_chunks = [raw_data[i:i+MAX_LEN + 1] for i in range(0, len(raw_data), MAX_LEN)]\n",
    "data_chunks = [(chunk[0: MAX_LEN], chunk[1:]) for chunk in data_chunks if len(chunk) == MAX_LEN + 1]\n",
    "\n",
    "train_data = data_chunks[:int(len(data_chunks) * 0.8)]\n",
    "val_data = data_chunks[int(len(data_chunks) * 0.8):]\n",
    "train_x, train_y = zip(*train_data)\n",
    "val_x, val_y = zip(*val_data)\n",
    "\n",
    "print(f\"First Train Example:\\nx:\\\"{train_x[0]}\\\"\\n->\\ny:\\\"{train_y[0]}\\\"\")\n",
    "# YOUR CODE ENDS HERE"
   ]
  },
  {
   "attachments": {},
   "cell_type": "markdown",
   "metadata": {},
   "source": [
    "# Using `torch.utils.data`\n",
    "\n",
    "We will use `torch.utils.data.Dataset` to create a dataset object that will be used to create a `torch.utils.data.DataLoader` object. The `DataLoader` object will be used to create batches of data.\n",
    "\n",
    "## Coding task 3.4\n",
    "\n",
    "Your task is to learn how to use `torch.utils.data.Dataset` and `torch.utils.data.DataLoader` classes and to apply them to our data.\n",
    "\n",
    "1. Convert your data to tensors of type long\n",
    "1. Create a `torch.utils.data.Dataset` object for each train and test data. Name them `train_dataset` and `val_dataset`. You can use the `TensorDataset` class for this or make a new class that inherits from `torch.utils.data.Dataset` and implements the `__getitem__` and `__len__` methods.\n",
    "2. Try indexing `train_dataset` to get a single example and decode it using `tokenizer.decode()`. What does it contain? Use tokenizer to decode one example (both x and y). Does it look like a valid text? Are the targets shifted by one character?\n",
    "1. Use the `DataLoader` class to create `train_loader` and `val_loader` objects. It will shuffle and batch data for you. You can use the following parameters:\n",
    "   * `dataset` - the dataset object you created in the previous step\n",
    "   * `batch_size` - your choice!\n",
    "   * `shuffle` - True for training data, False for validation data\n",
    "   * `num_workers` - 8, number of CPU cores to use for batch preparation\n",
    "3. Try iterating over `train_loader` and print the shapes of the batches.\n",
    "    * You can use `break` to stop the loop after the first iteration.\n",
    "4. Try decoding a batch that you get from `train_loader`. Does it look like a valid text? Are the targets shifted by one character?\n",
    "\n",
    "Learn more about data feeding in pytorch here: https://pytorch.org/tutorials/beginner/basics/data_tutorial.html\n",
    "\n",
    "\n",
    "**NOTE:**\n",
    "1. `TensorDataset` returns a tuple of tensors. Usually these are `(x, y)` pairs, where `x` is the input and `y` is the target. In our case, `x` is the input sequence and `y` is the same sequence shifted by one character. This is how we will train our language model. We will use the first 128 characters to predict the next character.\n",
    "1. You need to convert your pytorch tensor into a python list in order to use `tokenizer.decode()`. Feel free to do it in-place or modify the `decode` method of the `Tokenizer` class to accept **BOTH** python lists and pytorch tensors. You can check what datatype you have using `isinstance()` function.\n",
    "2. Printing might look a bit weird because you have a lot of `\\n` in the data. It is alright, just be careful when you are verifying that your data is correct.\n",
    "\n",
    "### Grading criteria\n",
    "\n",
    "* 1 point for `train_dataset` and `val_dataset` objects\n",
    "* 1 point if each test is written and passed:\n",
    "  * train dataset element is correctly processed and x and y corespond to the correct characters\n",
    "  * printed the shapes of the items that you get from `train_loader`\n",
    "  * decoded a batch from `train_loader` and printed the decoded text and it is correct"
   ]
  },
  {
   "cell_type": "code",
   "execution_count": 28,
   "metadata": {},
   "outputs": [
    {
     "name": "stdout",
     "output_type": "stream",
     "text": [
      "torch.Size([64, 128]) torch.Size([64, 128])\n",
      "d grandam, is our father dead?\n",
      "\n",
      "DUCHESS OF YORK:\n",
      "No, boy.\n",
      "\n",
      "Boy:\n",
      "Why do you wring your hands, and beat your breast,\n",
      "And cry 'O Cl tensor([17, 58, 35, 32, 12,  0, 32, 15, 18, 17, 61, 16, 17,  9, 60, 35, 17, 26,\n",
      "        32, 34, 55, 38, 35, 17,  0, 38, 32,  0,  4, 64, 64,  5,  7,  3, 11, 53,\n",
      "        59, 59, 17, 10, 37, 17, 33, 10, 36, 46, 30, 64, 40,  9, 18, 17, 14,  9,\n",
      "        56, 19, 64, 64, 25,  9, 56, 30, 64, 49, 55, 56, 17,  0,  9, 17, 56,  9,\n",
      "        60, 17, 13, 35, 61, 12, 58, 17, 56,  9, 60, 35, 17, 55, 32, 12,  0, 16,\n",
      "        18, 17, 32, 12,  0, 17, 14, 38, 32, 34, 17, 56,  9, 60, 35, 17, 14, 35,\n",
      "        38, 32, 16, 34, 18, 64, 47, 12,  0, 17, 42, 35, 56, 17, 39, 10, 17,  3,\n",
      "        48, 32])\n"
     ]
    }
   ],
   "source": [
    "BATCH_SIZE = 3  # think about a better batch size for training, this is just a placeholder\n",
    "\n",
    "# YOUR CODE STARTS HERE (our implementation is about 13 lines)\n",
    "BATCH_SIZE = 64\n",
    "def encode_dataset(dataset, tokenizer):\n",
    "    return [tokenizer.encode(s) for s in dataset]\n",
    "\n",
    "tokenizer = Tokenizer(char2idx)\n",
    "train_dataset = torch.utils.data.TensorDataset(\n",
    "    torch.tensor(encode_dataset(train_x, tokenizer), dtype=torch.long),\n",
    "    torch.tensor(encode_dataset(train_y, tokenizer), dtype=torch.long))\n",
    "val_dataset = torch.utils.data.TensorDataset(\n",
    "    torch.tensor(encode_dataset(val_x, tokenizer), dtype=torch.long),\n",
    "    torch.tensor(encode_dataset(val_y, tokenizer), dtype=torch.long))\n",
    "\n",
    "train_loader = torch.utils.data.DataLoader(train_dataset, batch_size=BATCH_SIZE, shuffle=True, num_workers=8)\n",
    "val_loader = torch.utils.data.DataLoader(val_dataset, batch_size=BATCH_SIZE, shuffle=True, num_workers=8)\n",
    "\n",
    "for x, y in train_loader:\n",
    "    print(x.shape, y.shape)\n",
    "    print(tokenizer.decode(x[0]), y[0])\n",
    "    break\n",
    "\n",
    "\n",
    "# YOUR CODE ENDS HERE"
   ]
  },
  {
   "attachments": {},
   "cell_type": "markdown",
   "metadata": {},
   "source": [
    "# Train a Transformer model\n",
    "\n",
    "Import your `TransformerLM` model from `modeling_transormer` file and train it on the data you prepared above.\n",
    "You know the drill: define a model, an optimizer, and a training loop, log everything to wandb.\n",
    "You can also save your model using `TransformerLM.save_pretrained()` method and load it using `TransformerLM.from_pretrained()` method in case you want to.\n",
    "\n",
    "### Tricky part\n",
    "\n",
    "In PyTorch, `F.cross_entropy` expects the logits to be of shape `(batch_size, num_classes)` and the targets to be of shape `(batch_size,)` containing the class indices. In our case, the logits tensor has the shape `(batch_size, seq_len, num_classes)` and the targets are of shape `(batch_size, seq_len)`. We need to reshape the input and the targets to make them compatible with `F.cross_entropy`. You can do it like this:\n",
    "\n",
    "```python\n",
    "bs, seq_len, num_classes = logits.shape\n",
    "logits = logits.reshape(bs * seq_len, num_classes)\n",
    "targets = targets.reshape(bs * seq_len)\n",
    "```\n",
    "\n",
    "or, equivalently, like this:\n",
    "\n",
    "```python\n",
    "logits = logits.view(-1, num_classes)\n",
    "targets = targets.view(-1)\n",
    "```\n",
    "\n",
    "Try monitoring your GPU consumption and max it out. The more efficient your code is, the faster your model will train.\n",
    "During training log your loss and and accuracy. You can only log accuracy every 100 batches or so, because it is a bit slow to compute. You can also log the learning rate.\n",
    "During evlauation you just need to log the perplexity, the loss, and accuracy. Perplexity is just `exp(loss)`.\n",
    "Accuracy is not the most standard metric for language models, but it is very intererpretable and easy to compute. Don't expect it to be high, though.\n",
    "Be mindful how frequenly you evaluate your model. You don't want to evaluate it too often, because it will slow down your training loop.\n",
    "\n",
    "> You can also log the number of batches you process in one second (throughput) as a measure of efficiency. It is not required, but it is a good idea to monitor it.\n",
    "\n",
    "## Coding task 3.5\n",
    "\n",
    "Make a training loop and train your model.\n",
    "\n",
    "### Grading criteria\n",
    "**(5 points + extra points)**\n",
    "\n",
    "* 2 points for trainig loop\n",
    "* 1 point for using the GPU\n",
    "* 1 point for evaluation loop (we recommend to make it into a separate function to make your code more readable)\n",
    "* 1 point for wandb logging of train loss, eval loss, train accuracy, eval accuracy, eval perplexity. You can also log the learning rate, but it is not required.\n",
    "* -1 point if forget to zero your gradients between batches\n",
    "* -1 point if your forget to put your model to evaluation mode during evaluation and back to training mode during training\n",
    "* Extra point for using a learning rate scheduler\n",
    "* Extra point for any other improvements to the training loop\n"
   ]
  },
  {
   "cell_type": "code",
   "execution_count": 40,
   "metadata": {},
   "outputs": [
    {
     "name": "stderr",
     "output_type": "stream",
     "text": [
      "\u001b[34m\u001b[1mwandb\u001b[0m: \u001b[33mWARNING\u001b[0m Calling wandb.login() after wandb.init() has no effect.\n"
     ]
    },
    {
     "data": {
      "text/html": [
       "Finishing last run (ID:raeks8ww) before initializing another..."
      ],
      "text/plain": [
       "<IPython.core.display.HTML object>"
      ]
     },
     "metadata": {},
     "output_type": "display_data"
    },
    {
     "data": {
      "application/vnd.jupyter.widget-view+json": {
       "model_id": "b6631f036d154c40b549b6af1ea0b04b",
       "version_major": 2,
       "version_minor": 0
      },
      "text/plain": [
       "VBox(children=(Label(value='0.001 MB of 0.001 MB uploaded\\r'), FloatProgress(value=1.0, max=1.0)))"
      ]
     },
     "metadata": {},
     "output_type": "display_data"
    },
    {
     "data": {
      "text/html": [
       "<style>\n",
       "    table.wandb td:nth-child(1) { padding: 0 10px; text-align: left ; width: auto;} td:nth-child(2) {text-align: left ; width: 100%}\n",
       "    .wandb-row { display: flex; flex-direction: row; flex-wrap: wrap; justify-content: flex-start; width: 100% }\n",
       "    .wandb-col { display: flex; flex-direction: column; flex-basis: 100%; flex: 1; padding: 10px; }\n",
       "    </style>\n",
       "<div class=\"wandb-row\"><div class=\"wandb-col\"><h3>Run history:</h3><br/><table class=\"wandb\"><tr><td>train_accuracy</td><td>▁▂▄▄▅▆▇▇██</td></tr><tr><td>train_loss</td><td>█▇▅▄▄▃▂▂▁▁</td></tr><tr><td>val_accuracy</td><td>▁▂▃▄▅▆▇▇██</td></tr><tr><td>val_loss</td><td>█▆▅▄▄▃▂▂▁▁</td></tr><tr><td>val_perplexity</td><td>█▆▅▄▃▃▂▂▁▁</td></tr></table><br/></div><div class=\"wandb-col\"><h3>Run summary:</h3><br/><table class=\"wandb\"><tr><td>train_accuracy</td><td>0.39338</td></tr><tr><td>train_loss</td><td>2.0591</td></tr><tr><td>val_accuracy</td><td>0.39549</td></tr><tr><td>val_loss</td><td>2.04583</td></tr><tr><td>val_perplexity</td><td>4.18542</td></tr></table><br/></div></div>"
      ],
      "text/plain": [
       "<IPython.core.display.HTML object>"
      ]
     },
     "metadata": {},
     "output_type": "display_data"
    },
    {
     "data": {
      "text/html": [
       " View run <strong style=\"color:#cdcd00\">dazzling-dream-1</strong> at: <a href='https://wandb.ai/nechs-team/hw-5/runs/raeks8ww' target=\"_blank\">https://wandb.ai/nechs-team/hw-5/runs/raeks8ww</a><br/>Synced 6 W&B file(s), 0 media file(s), 0 artifact file(s) and 0 other file(s)"
      ],
      "text/plain": [
       "<IPython.core.display.HTML object>"
      ]
     },
     "metadata": {},
     "output_type": "display_data"
    },
    {
     "data": {
      "text/html": [
       "Find logs at: <code>.\\wandb\\run-20240309_221145-raeks8ww\\logs</code>"
      ],
      "text/plain": [
       "<IPython.core.display.HTML object>"
      ]
     },
     "metadata": {},
     "output_type": "display_data"
    },
    {
     "data": {
      "text/html": [
       "Successfully finished last run (ID:raeks8ww). Initializing new run:<br/>"
      ],
      "text/plain": [
       "<IPython.core.display.HTML object>"
      ]
     },
     "metadata": {},
     "output_type": "display_data"
    },
    {
     "data": {
      "application/vnd.jupyter.widget-view+json": {
       "model_id": "8ec50660d2244dc68fe5affccbd52a10",
       "version_major": 2,
       "version_minor": 0
      },
      "text/plain": [
       "VBox(children=(Label(value='Waiting for wandb.init()...\\r'), FloatProgress(value=0.011111111111111112, max=1.0…"
      ]
     },
     "metadata": {},
     "output_type": "display_data"
    },
    {
     "data": {
      "text/html": [
       "wandb version 0.16.4 is available!  To upgrade, please run:\n",
       " $ pip install wandb --upgrade"
      ],
      "text/plain": [
       "<IPython.core.display.HTML object>"
      ]
     },
     "metadata": {},
     "output_type": "display_data"
    },
    {
     "data": {
      "text/html": [
       "Tracking run with wandb version 0.16.3"
      ],
      "text/plain": [
       "<IPython.core.display.HTML object>"
      ]
     },
     "metadata": {},
     "output_type": "display_data"
    },
    {
     "data": {
      "text/html": [
       "Run data is saved locally in <code>c:\\Users\\Nech\\projects\\python_projects\\comp5500\\HW5\\notebooks\\wandb\\run-20240309_223620-arljxi3z</code>"
      ],
      "text/plain": [
       "<IPython.core.display.HTML object>"
      ]
     },
     "metadata": {},
     "output_type": "display_data"
    },
    {
     "data": {
      "text/html": [
       "Syncing run <strong><a href='https://wandb.ai/nechs-team/hw-5/runs/arljxi3z' target=\"_blank\">curious-dust-2</a></strong> to <a href='https://wandb.ai/nechs-team/hw-5' target=\"_blank\">Weights & Biases</a> (<a href='https://wandb.me/run' target=\"_blank\">docs</a>)<br/>"
      ],
      "text/plain": [
       "<IPython.core.display.HTML object>"
      ]
     },
     "metadata": {},
     "output_type": "display_data"
    },
    {
     "data": {
      "text/html": [
       " View project at <a href='https://wandb.ai/nechs-team/hw-5' target=\"_blank\">https://wandb.ai/nechs-team/hw-5</a>"
      ],
      "text/plain": [
       "<IPython.core.display.HTML object>"
      ]
     },
     "metadata": {},
     "output_type": "display_data"
    },
    {
     "data": {
      "text/html": [
       " View run at <a href='https://wandb.ai/nechs-team/hw-5/runs/arljxi3z' target=\"_blank\">https://wandb.ai/nechs-team/hw-5/runs/arljxi3z</a>"
      ],
      "text/plain": [
       "<IPython.core.display.HTML object>"
      ]
     },
     "metadata": {},
     "output_type": "display_data"
    },
    {
     "name": "stdout",
     "output_type": "stream",
     "text": [
      "Batch 50, Train accuracy: 0.05052978515625, Train Loss: 3.9611966609954834\n",
      "Val Loss: 3.9532780732427324, Val Accuracy: 0.14072809093516925, Val Perplexity: 15.628407524381771\n",
      "Batch 100, Train accuracy: 0.101343994140625, Train Loss: 3.376915454864502\n",
      "Val Loss: 3.421366802283696, Val Accuracy: 0.15358308232931728, Val Perplexity: 11.705750795768962\n",
      "Batch 150, Train accuracy: 0.15945657869664634, Train Loss: 3.262530565261841\n",
      "Val Loss: 3.238763783659254, Val Accuracy: 0.17821733362019507, Val Perplexity: 10.489590846342807\n",
      "Batch 200, Train accuracy: 0.17786046960851648, Train Loss: 3.0414581298828125\n",
      "Val Loss: 2.9806650280952454, Val Accuracy: 0.21500735083189904, Val Perplexity: 8.88436400971003\n",
      "Batch 250, Train accuracy: 0.225738525390625, Train Loss: 2.8039634227752686\n",
      "Val Loss: 2.761393870626177, Val Accuracy: 0.24186029833620196, Val Perplexity: 7.625296108731819\n",
      "Batch 300, Train accuracy: 0.23416807593368902, Train Loss: 2.736560106277466\n",
      "Val Loss: 2.6467492069516863, Val Accuracy: 0.2521873207114171, Val Perplexity: 7.00528136449938\n",
      "Batch 350, Train accuracy: 0.2522025730298913, Train Loss: 2.6400814056396484\n",
      "Val Loss: 2.587616801261902, Val Accuracy: 0.2582607214572576, Val Perplexity: 6.695760710172877\n",
      "Batch 400, Train accuracy: 0.2541520628210616, Train Loss: 2.601400136947632\n",
      "Val Loss: 2.5550428799220493, Val Accuracy: 0.26221403471026966, Val Perplexity: 6.52824411824036\n",
      "Batch 450, Train accuracy: 0.26307896205357145, Train Loss: 2.5655884742736816\n",
      "Val Loss: 2.52932642187391, Val Accuracy: 0.2669517355134825, Val Perplexity: 6.397492148389477\n",
      "Batch 500, Train accuracy: 0.2655677795410156, Train Loss: 2.549342632293701\n",
      "Val Loss: 2.5019176517214095, Val Accuracy: 0.2720121557659208, Val Perplexity: 6.2595919359951715\n",
      "Batch 550, Train accuracy: 0.2728759765625, Train Loss: 2.49253511428833\n",
      "Val Loss: 2.477514624595642, Val Accuracy: 0.2766153901319564, Val Perplexity: 6.138078715085285\n",
      "Batch 600, Train accuracy: 0.2773681640625, Train Loss: 2.4684064388275146\n",
      "Val Loss: 2.4472610524722507, Val Accuracy: 0.2843920324153758, Val Perplexity: 5.989086658947588\n",
      "Batch 650, Train accuracy: 0.28100353422619045, Train Loss: 2.4447498321533203\n",
      "Val Loss: 2.409763957772936, Val Accuracy: 0.29382709409064833, Val Perplexity: 5.8069623321814845\n",
      "Batch 700, Train accuracy: 0.29451851222826086, Train Loss: 2.401116371154785\n",
      "Val Loss: 2.37399560213089, Val Accuracy: 0.3022402108433735, Val Perplexity: 5.6358551189368065\n",
      "Batch 750, Train accuracy: 0.29870351155598956, Train Loss: 2.3698184490203857\n",
      "Val Loss: 2.345946328980582, Val Accuracy: 0.3086273666092943, Val Perplexity: 5.503464178457469\n",
      "Batch 800, Train accuracy: 0.3098606418918919, Train Loss: 2.3463613986968994\n",
      "Val Loss: 2.314531547682626, Val Accuracy: 0.31547619047619047, Val Perplexity: 5.357056285218132\n",
      "Batch 850, Train accuracy: 0.31490211925287354, Train Loss: 2.287832498550415\n",
      "Val Loss: 2.291275305407388, Val Accuracy: 0.3213344449225473, Val Perplexity: 5.249942525169719\n",
      "Batch 900, Train accuracy: 0.32633754185267855, Train Loss: 2.2863504886627197\n",
      "Val Loss: 2.269589832850865, Val Accuracy: 0.330778471026965, Val Perplexity: 5.151038009380017\n",
      "Batch 950, Train accuracy: 0.32998891977163464, Train Loss: 2.2717692852020264\n",
      "Val Loss: 2.238463827541896, Val Accuracy: 0.33645295467584624, Val Perplexity: 5.010720307213516\n",
      "Batch 1000, Train accuracy: 0.3454782586348684, Train Loss: 2.2105982303619385\n",
      "Val Loss: 2.206781097820827, Val Accuracy: 0.35020438898450945, Val Perplexity: 4.869882813699294\n",
      "Batch 1050, Train accuracy: 0.3488698765851449, Train Loss: 2.212224006652832\n",
      "Val Loss: 2.1898610166140964, Val Accuracy: 0.35421148881239245, Val Perplexity: 4.795491272086124\n",
      "Batch 1100, Train accuracy: 0.36085205078125, Train Loss: 2.183506965637207\n",
      "Val Loss: 2.152950738157545, Val Accuracy: 0.36456092226047043, Val Perplexity: 4.635196880933118\n",
      "Batch 1150, Train accuracy: 0.3641133626302083, Train Loss: 2.174729108810425\n",
      "Val Loss: 2.127479314804077, Val Accuracy: 0.36999336632243257, Val Perplexity: 4.526168234919226\n",
      "Batch 1200, Train accuracy: 0.3699951171875, Train Loss: 2.127728223800659\n",
      "Val Loss: 2.0968774471964156, Val Accuracy: 0.3790564041881813, Val Perplexity: 4.396895028560957\n",
      "Batch 1250, Train accuracy: 0.37950942095588236, Train Loss: 2.1110122203826904\n",
      "Val Loss: 2.0795960000583102, Val Accuracy: 0.3844216150315548, Val Perplexity: 4.324719523458524\n",
      "Batch 1300, Train accuracy: 0.38176342048267325, Train Loss: 2.0401418209075928\n",
      "Val Loss: 2.0709090317998613, Val Accuracy: 0.3885452524383247, Val Perplexity: 4.288664217990239\n",
      "Batch 1350, Train accuracy: 0.3926478794642857, Train Loss: 2.0319249629974365\n",
      "Val Loss: 2.050425695521491, Val Accuracy: 0.39277198078026393, Val Perplexity: 4.204245532854789\n",
      "Batch 1400, Train accuracy: 0.39423801587975543, Train Loss: 2.054868221282959\n",
      "Val Loss: 2.04424735052245, Val Accuracy: 0.39648773666092946, Val Perplexity: 4.178947230118057\n",
      "Batch 1450, Train accuracy: 0.40092329545454547, Train Loss: 2.0484237670898438\n",
      "Val Loss: 2.0267069722924913, Val Accuracy: 0.40427334337349397, Val Perplexity: 4.107541151538997\n",
      "Batch 1500, Train accuracy: 0.4034364999058735, Train Loss: 1.993935227394104\n",
      "Val Loss: 2.0177469083241055, Val Accuracy: 0.40395958835341367, Val Perplexity: 4.071302586051487\n",
      "Batch 1550, Train accuracy: 0.4136301676432292, Train Loss: 1.9815940856933594\n",
      "Val Loss: 2.0022712222167423, Val Accuracy: 0.40788600831899025, Val Perplexity: 4.0090900473173265\n",
      "Batch 1600, Train accuracy: 0.41471739073057434, Train Loss: 2.0147430896759033\n",
      "Val Loss: 1.9830686790602547, Val Accuracy: 0.41259233362019504, Val Perplexity: 3.9325613858697834\n",
      "Batch 1650, Train accuracy: 0.4211018880208333, Train Loss: 1.991947889328003\n",
      "Val Loss: 1.9812651148864202, Val Accuracy: 0.4158867613310384, Val Perplexity: 3.9254114554659\n",
      "Batch 1700, Train accuracy: 0.4227557842548077, Train Loss: 1.9296289682388306\n",
      "Val Loss: 1.9662524376596724, Val Accuracy: 0.41906913367756743, Val Perplexity: 3.866148648602604\n",
      "Batch 1750, Train accuracy: 0.4317626953125, Train Loss: 1.9366371631622314\n",
      "Val Loss: 1.9520961769989558, Val Accuracy: 0.42089787722317845, Val Perplexity: 3.8106794842539387\n",
      "Batch 1800, Train accuracy: 0.4312526157924107, Train Loss: 1.9099366664886475\n",
      "Val Loss: 1.9513992198875971, Val Accuracy: 0.4232375932300631, Val Perplexity: 3.8079589153779225\n",
      "Batch 1850, Train accuracy: 0.4322210347877358, Train Loss: 1.9371529817581177\n",
      "Val Loss: 1.9497645582471574, Val Accuracy: 0.42694438468158347, Val Perplexity: 3.801581832596733\n",
      "Batch 1900, Train accuracy: 0.43668706366356386, Train Loss: 1.8846828937530518\n",
      "Val Loss: 1.9278091319969721, Val Accuracy: 0.43083494693057944, Val Perplexity: 3.716448049410919\n",
      "Batch 1950, Train accuracy: 0.4380725978576031, Train Loss: 1.9019116163253784\n",
      "Val Loss: 1.9344122282096319, Val Accuracy: 0.43245750860585197, Val Perplexity: 3.741950668646953\n",
      "Batch 2000, Train accuracy: 0.44245348478618424, Train Loss: 1.869196891784668\n",
      "Val Loss: 1.9164051711559296, Val Accuracy: 0.4364332329317269, Val Perplexity: 3.6726087800331877\n",
      "Batch 2050, Train accuracy: 0.4441736394708807, Train Loss: 1.872118592262268\n",
      "Val Loss: 1.915857834475381, Val Accuracy: 0.434434165232358, Val Perplexity: 3.670511241920696\n",
      "Batch 2100, Train accuracy: 0.44890726023706895, Train Loss: 1.8656110763549805\n",
      "Val Loss: 1.8941482177802496, Val Accuracy: 0.4410543961560528, Val Perplexity: 3.5877974709200955\n"
     ]
    }
   ],
   "source": [
    "# YOUR CODE STARTS HERE\n",
    "from transformer_lm.modeling_transformer import TransformerLM\n",
    "import wandb\n",
    "\n",
    "def evaluate(model, val_loader):\n",
    "    \"\"\"Evaluate the model on the validation set. Return the loss, accuracy, and perplexity.\n",
    "\n",
    "    Args:\n",
    "    model: The model to evaluate.\n",
    "    val_loader: DataLoader for the validation set.\n",
    "    \n",
    "    Returns:\n",
    "    loss: The average loss on the validation set.\n",
    "    accuracy: The accuracy on the validation set.\n",
    "    perplexity: The perplexity on the validation set.\n",
    "    \"\"\"\n",
    "    with torch.no_grad():\n",
    "        model.eval()\n",
    "        total_loss = 0\n",
    "        correct_preds = 0\n",
    "        total_preds = 0\n",
    "        for x, y in val_loader:\n",
    "            x, y = x.to(device), y.to(device)\n",
    "            logits = model(x)\n",
    "            logits = logits.view(-1, len(char2idx))\n",
    "            targets = y.view(-1)\n",
    "            loss = F.cross_entropy(logits, targets)\n",
    "            total_loss += loss.item()\n",
    "            correct_preds += (logits.argmax(1) == targets).sum().item()\n",
    "            total_preds += targets.shape[0]\n",
    "            \n",
    "        loss = total_loss / len(val_loader)\n",
    "        accuracy = correct_preds / total_preds\n",
    "        perplexity = (total_loss / len(val_loader)) **2\n",
    "        \n",
    "        return loss, accuracy, perplexity\n",
    "\n",
    "def noam_schedule(scale_factor, hidden_size, step, warmup_steps=2000):\n",
    "    \"\"\"Learning rate schedule from the \"Attention is All You Need\" paper.\n",
    "\n",
    "    Args:\n",
    "    scale_factor: The scale factor to apply to the learning rate.\n",
    "    hidden_size: The hidden size of the model.\n",
    "    step: The current step in training.\n",
    "    warmup_steps: The number of warmup steps (default is 4000).\n",
    "    \n",
    "    Returns:\n",
    "    lr: The learning rate for the current step.\n",
    "    \"\"\"\n",
    "    step = max(step, 1)\n",
    "    return scale_factor * (hidden_size ** (-0.5) * min(step ** (-0.5), step * (warmup_steps ** (-1.5))))\n",
    "\n",
    "def train(model, train_loader, val_loader, optimizer, config=None, log_to_wandb=False):\n",
    "    \"\"\"Train the model on the training set and evaluate it on the validation set.\n",
    "    \n",
    "    Args:\n",
    "    model: The model to train.\n",
    "    train_loader: DataLoader for the training set.\n",
    "    val_loader: DataLoader for the validation set.\n",
    "    optimizer: The optimizer to use for training.\n",
    "    config: A dictionary containing hyperparameters for training.\n",
    "    log_to_wandb: Whether to log training and validation metrics to Weights & Biases.\n",
    "    \"\"\"\n",
    "    # log hyperparameters\n",
    "    if log_to_wandb:\n",
    "        wandb.login()\n",
    "        wandb.init(project=config[\"project\"], config=config)\n",
    "\n",
    "    batch_count = 0\n",
    "    best_val_acc = -1\n",
    "    for _ in range(config[\"num_epochs\"]):\n",
    "        total_preds = 0\n",
    "        correct_preds = 0\n",
    "        for x, y in train_loader:\n",
    "            batch_count += 1\n",
    "            \n",
    "            # learning rate schedule\n",
    "            lr = noam_schedule(config[\"scale_factor\"], config[\"hidden\"], batch_count)\n",
    "            for param_group in optimizer.param_groups:\n",
    "                param_group['lr'] = lr\n",
    "            \n",
    "            # training step\n",
    "            x, y = x.to(device), y.to(device)\n",
    "            optimizer.zero_grad()\n",
    "            logits = model(x)\n",
    "            logits = logits.view(-1, len(char2idx))\n",
    "            targets = y.view(-1)\n",
    "            loss = F.cross_entropy(logits, targets)\n",
    "            loss.backward()\n",
    "            optimizer.step()\n",
    "            \n",
    "            # metrics update\n",
    "            total_preds += targets.shape[0]\n",
    "            correct_preds += (logits.argmax(1) == targets).sum().item()\n",
    "\n",
    "            # log metrics\n",
    "            if batch_count % 50 == 0:\n",
    "                wandb.log({\"learning_rate\": lr}, step=batch_count)\n",
    "\n",
    "                # train metrics\n",
    "                train_acc = correct_preds / total_preds\n",
    "                loss = loss.item()\n",
    "                print(f\"Batch {batch_count}, Train accuracy: {train_acc:.4f}, Train Loss: {loss:.4f}\")\n",
    "                wandb.log({\"train_loss\": loss, \"train_accuracy\": train_acc}, step=batch_count)\n",
    "                \n",
    "                # val metrics\n",
    "                eval_loss, eval_accuracy, eval_perplexity = evaluate(model, val_loader)\n",
    "                model.train()\n",
    "                print(f\"Val Loss: {eval_loss:.4f}, Val Accuracy: {eval_accuracy:.4f}, Val Perplexity: {eval_perplexity:.4f}\")\n",
    "                wandb.log({\"val_loss\": eval_loss, \"val_accuracy\": eval_accuracy, \"val_perplexity\": eval_perplexity}, step=batch_count)\n",
    "                if best_val_acc < eval_accuracy:\n",
    "                    best_val_acc = eval_accuracy\n",
    "    # end training loop\n",
    "    if log_to_wandb:\n",
    "        wandb.run.summary[\"best_val_accuracy\"] = best_val_acc\n",
    "\n",
    "\n",
    "\n",
    "    \n",
    "\n",
    "\n",
    "config = {\n",
    "    \"project\": \"hw-5\",\n",
    "    \"num_layers\": 6,\n",
    "    \"hidden\": 64,\n",
    "    \"num_heads\": 8,\n",
    "    \"fcn_hidden\": 64,\n",
    "    \"vocab_size\": len(char2idx),\n",
    "    \"max_seq_len\": MAX_LEN,\n",
    "    \"num_epochs\": 30,\n",
    "    \"lr_schedule\": \"Noam\",\n",
    "    \"scale_factor\": 1,\n",
    "    \"optimizer\": \"adam\",\n",
    "    \n",
    "}\n",
    "\n",
    "device = torch.device(\"cuda\")\n",
    "model = TransformerLM(\n",
    "    num_layers=config[\"num_layers\"],\n",
    "    hidden=config[\"hidden\"],\n",
    "    num_heads=config[\"num_heads\"],\n",
    "    fcn_hidden=config[\"fcn_hidden\"],\n",
    "    vocab_size=config[\"vocab_size\"],\n",
    "    max_seq_len=config[\"max_seq_len\"],\n",
    ").to(device)\n",
    "\n",
    "optimizer = torch.optim.AdamW(model.parameters(), lr=config[\"scale_factor\"])\n",
    "train(model, train_loader, val_loader, optimizer, config, True)\n",
    "\n",
    "\n",
    "# YOUR CODE ENDS HERE"
   ]
  },
  {
   "cell_type": "code",
   "execution_count": 33,
   "metadata": {},
   "outputs": [
    {
     "data": {
      "text/plain": [
       "109"
      ]
     },
     "execution_count": 33,
     "metadata": {},
     "output_type": "execute_result"
    }
   ],
   "source": [
    "len(train_loader)\n"
   ]
  },
  {
   "cell_type": "code",
   "execution_count": null,
   "metadata": {},
   "outputs": [],
   "source": []
  },
  {
   "attachments": {},
   "cell_type": "markdown",
   "metadata": {},
   "source": [
    "# Generate text using your model\n",
    "\n",
    "Now it's time to see what this model can do. Implement a generation function.\n",
    "The idea is to start with some prefix text, predict the next character, append it to the prefix, and repeat the process.\n",
    "You can stop generating text when you reach MAX_LEN tokens.\n",
    "\n",
    "Use `torch.no_grad()` context manager to make sure that you don't compute gradients during generation, or it will blow up your GPU memory.\n",
    "\n",
    "## Coding task 3.6\n",
    "\n",
    "Implement a generation function that accepts a prefix text and generates the next tokens up to MAX_LEN.\n",
    "\n",
    "### Grading criteria\n",
    "**(2 points)**\n",
    "\n",
    "* 2 points for generation function\n",
    "* -1 point if you forget to put your model to evaluation mode during generation and back to training mode after generation or if you forget to use `torch.no_grad()` context manager, or if you are not using the GPU."
   ]
  },
  {
   "cell_type": "code",
   "execution_count": null,
   "metadata": {},
   "outputs": [],
   "source": [
    "# YOUR CODE STARTS HERE (our implementation is about 10 lines)\n",
    "\n",
    "# YOUR CODE ENDS HERE"
   ]
  },
  {
   "attachments": {},
   "cell_type": "markdown",
   "metadata": {},
   "source": [
    "# Exploring hyperparameters and understanding Transformers\n",
    "\n",
    "Train at least 10 models with different hyperparameters and compare them using wandb. Write a short report (500-1000 words).\n",
    "\n",
    "\n",
    "### Grading criteria\n",
    "**(5 points max + extra points)**\n",
    "\n",
    "* 4 points for training 10+ models. (5-9 models = 2 points, 1-4 models = 1 point)\n",
    "* 1 point for training report that describes what you did and what you learned about the hyperparameters and efficient training."
   ]
  },
  {
   "cell_type": "markdown",
   "metadata": {},
   "source": []
  }
 ],
 "metadata": {
  "kernelspec": {
   "display_name": "nlp_class",
   "language": "python",
   "name": "python3"
  },
  "language_info": {
   "codemirror_mode": {
    "name": "ipython",
    "version": 3
   },
   "file_extension": ".py",
   "mimetype": "text/x-python",
   "name": "python",
   "nbconvert_exporter": "python",
   "pygments_lexer": "ipython3",
   "version": "3.10.13"
  },
  "orig_nbformat": 4
 },
 "nbformat": 4,
 "nbformat_minor": 2
}
